{
 "cells": [
  {
   "cell_type": "markdown",
   "metadata": {},
   "source": [
    "<h1 style=\"font-family:Impact,Arial;font-size:30px;\">37011 Financial Market Instrument - Autumn 2024</h1>\n",
    "<h1 style=\"font-family:Impact,Arial;font-size:45px;\">Assignment Part 2</h1>\n",
    "<h2 style=\"font-family:Arial;\">Erik Schl&ouml;gl</h2>\n",
    "<p><small> School of Mathematical &amp; Physical Sciences<br>\n",
    "University of Technology Sydney\n",
    "</small></p>\n",
    "<p>\n",
    "<a href=\"mailto:Erik.Schlogl@uts.edu.au?Subject=37000 JIT\" target=\"_blank\">\n",
    "<small><font color=MediumVioletRed>Erik.Schlogl@uts.edu.au</font></small></a>\n",
    "</p>\n",
    "<hr style=\"height:5px;border:none;color:#333;background-color:#333;\" />\n"
   ]
  },
  {
   "cell_type": "markdown",
   "metadata": {},
   "source": [
    "## Import packages\n"
   ]
  },
  {
   "cell_type": "code",
   "execution_count": 1,
   "metadata": {},
   "outputs": [],
   "source": [
    "import math\n",
    "from datetime import date, timedelta\n",
    "import numpy as np\n",
    "import pandas as pd\n",
    "import matplotlib.pyplot as plt"
   ]
  },
  {
   "cell_type": "markdown",
   "metadata": {},
   "source": [
    "## Import data\n"
   ]
  },
  {
   "cell_type": "markdown",
   "metadata": {},
   "source": [
    "#### Future\n"
   ]
  },
  {
   "cell_type": "code",
   "execution_count": 2,
   "metadata": {},
   "outputs": [
    {
     "data": {
      "text/html": [
       "<div>\n",
       "<style scoped>\n",
       "    .dataframe tbody tr th:only-of-type {\n",
       "        vertical-align: middle;\n",
       "    }\n",
       "\n",
       "    .dataframe tbody tr th {\n",
       "        vertical-align: top;\n",
       "    }\n",
       "\n",
       "    .dataframe thead th {\n",
       "        text-align: right;\n",
       "    }\n",
       "</style>\n",
       "<table border=\"1\" class=\"dataframe\">\n",
       "  <thead>\n",
       "    <tr style=\"text-align: right;\">\n",
       "      <th></th>\n",
       "      <th>Date</th>\n",
       "      <th>Price</th>\n",
       "      <th>Volume</th>\n",
       "    </tr>\n",
       "  </thead>\n",
       "  <tbody>\n",
       "    <tr>\n",
       "      <th>0</th>\n",
       "      <td>2019-03-26</td>\n",
       "      <td>59.94</td>\n",
       "      <td>685988</td>\n",
       "    </tr>\n",
       "    <tr>\n",
       "      <th>1</th>\n",
       "      <td>2019-03-27</td>\n",
       "      <td>59.41</td>\n",
       "      <td>732150</td>\n",
       "    </tr>\n",
       "    <tr>\n",
       "      <th>2</th>\n",
       "      <td>2019-03-28</td>\n",
       "      <td>59.30</td>\n",
       "      <td>712209</td>\n",
       "    </tr>\n",
       "    <tr>\n",
       "      <th>3</th>\n",
       "      <td>2019-03-29</td>\n",
       "      <td>60.14</td>\n",
       "      <td>705559</td>\n",
       "    </tr>\n",
       "    <tr>\n",
       "      <th>4</th>\n",
       "      <td>2019-04-01</td>\n",
       "      <td>61.59</td>\n",
       "      <td>670808</td>\n",
       "    </tr>\n",
       "    <tr>\n",
       "      <th>...</th>\n",
       "      <td>...</td>\n",
       "      <td>...</td>\n",
       "      <td>...</td>\n",
       "    </tr>\n",
       "    <tr>\n",
       "      <th>1256</th>\n",
       "      <td>2024-03-19</td>\n",
       "      <td>83.47</td>\n",
       "      <td>76814</td>\n",
       "    </tr>\n",
       "    <tr>\n",
       "      <th>1257</th>\n",
       "      <td>2024-03-20</td>\n",
       "      <td>81.68</td>\n",
       "      <td>351161</td>\n",
       "    </tr>\n",
       "    <tr>\n",
       "      <th>1258</th>\n",
       "      <td>2024-03-21</td>\n",
       "      <td>81.07</td>\n",
       "      <td>266860</td>\n",
       "    </tr>\n",
       "    <tr>\n",
       "      <th>1259</th>\n",
       "      <td>2024-03-22</td>\n",
       "      <td>80.63</td>\n",
       "      <td>231101</td>\n",
       "    </tr>\n",
       "    <tr>\n",
       "      <th>1260</th>\n",
       "      <td>2024-03-25</td>\n",
       "      <td>81.95</td>\n",
       "      <td>231101</td>\n",
       "    </tr>\n",
       "  </tbody>\n",
       "</table>\n",
       "<p>1261 rows × 3 columns</p>\n",
       "</div>"
      ],
      "text/plain": [
       "           Date  Price  Volume\n",
       "0    2019-03-26  59.94  685988\n",
       "1    2019-03-27  59.41  732150\n",
       "2    2019-03-28  59.30  712209\n",
       "3    2019-03-29  60.14  705559\n",
       "4    2019-04-01  61.59  670808\n",
       "...         ...    ...     ...\n",
       "1256 2024-03-19  83.47   76814\n",
       "1257 2024-03-20  81.68  351161\n",
       "1258 2024-03-21  81.07  266860\n",
       "1259 2024-03-22  80.63  231101\n",
       "1260 2024-03-25  81.95  231101\n",
       "\n",
       "[1261 rows x 3 columns]"
      ]
     },
     "execution_count": 2,
     "metadata": {},
     "output_type": "execute_result"
    }
   ],
   "source": [
    "future = pd.read_excel(\"Crude Oil May 24.xlsx\")\n",
    "future.drop(columns=[\"Open\", \"High\", \"Low\", \"Adj Close**\"], inplace=True)\n",
    "future.rename(columns={\"Close*\":\"Price\"}, inplace=True)\n",
    "future['Date'] = pd.to_datetime(future['Date'], format='%b %d, %Y')\n",
    "future['Price'] = future['Price'].astype(float)\n",
    "future['Volume'] = future['Volume'].apply(lambda x: np.nan if x == '-' else x)\n",
    "future = future.interpolate(method='linear')\n",
    "future['Volume'] = future['Volume'].round()\n",
    "future['Volume'] = future['Volume'].astype(int)\n",
    "future.sort_values(by='Date', inplace=True)\n",
    "future.reset_index(drop=True, inplace=True)\n",
    "future"
   ]
  },
  {
   "cell_type": "markdown",
   "metadata": {},
   "source": [
    "#### Cushing\n"
   ]
  },
  {
   "cell_type": "code",
   "execution_count": 3,
   "metadata": {},
   "outputs": [
    {
     "data": {
      "text/html": [
       "<div>\n",
       "<style scoped>\n",
       "    .dataframe tbody tr th:only-of-type {\n",
       "        vertical-align: middle;\n",
       "    }\n",
       "\n",
       "    .dataframe tbody tr th {\n",
       "        vertical-align: top;\n",
       "    }\n",
       "\n",
       "    .dataframe thead th {\n",
       "        text-align: right;\n",
       "    }\n",
       "</style>\n",
       "<table border=\"1\" class=\"dataframe\">\n",
       "  <thead>\n",
       "    <tr style=\"text-align: right;\">\n",
       "      <th></th>\n",
       "      <th>Date</th>\n",
       "      <th>Price</th>\n",
       "    </tr>\n",
       "  </thead>\n",
       "  <tbody>\n",
       "    <tr>\n",
       "      <th>0</th>\n",
       "      <td>1986-01-02</td>\n",
       "      <td>25.56</td>\n",
       "    </tr>\n",
       "    <tr>\n",
       "      <th>1</th>\n",
       "      <td>1986-01-03</td>\n",
       "      <td>26.00</td>\n",
       "    </tr>\n",
       "    <tr>\n",
       "      <th>2</th>\n",
       "      <td>1986-01-06</td>\n",
       "      <td>26.53</td>\n",
       "    </tr>\n",
       "    <tr>\n",
       "      <th>3</th>\n",
       "      <td>1986-01-07</td>\n",
       "      <td>25.85</td>\n",
       "    </tr>\n",
       "    <tr>\n",
       "      <th>4</th>\n",
       "      <td>1986-01-08</td>\n",
       "      <td>25.87</td>\n",
       "    </tr>\n",
       "    <tr>\n",
       "      <th>...</th>\n",
       "      <td>...</td>\n",
       "      <td>...</td>\n",
       "    </tr>\n",
       "    <tr>\n",
       "      <th>9624</th>\n",
       "      <td>2024-03-19</td>\n",
       "      <td>84.39</td>\n",
       "    </tr>\n",
       "    <tr>\n",
       "      <th>9625</th>\n",
       "      <td>2024-03-20</td>\n",
       "      <td>82.79</td>\n",
       "    </tr>\n",
       "    <tr>\n",
       "      <th>9626</th>\n",
       "      <td>2024-03-21</td>\n",
       "      <td>81.99</td>\n",
       "    </tr>\n",
       "    <tr>\n",
       "      <th>9627</th>\n",
       "      <td>2024-03-22</td>\n",
       "      <td>81.10</td>\n",
       "    </tr>\n",
       "    <tr>\n",
       "      <th>9628</th>\n",
       "      <td>2024-03-25</td>\n",
       "      <td>82.41</td>\n",
       "    </tr>\n",
       "  </tbody>\n",
       "</table>\n",
       "<p>9629 rows × 2 columns</p>\n",
       "</div>"
      ],
      "text/plain": [
       "           Date  Price\n",
       "0    1986-01-02  25.56\n",
       "1    1986-01-03  26.00\n",
       "2    1986-01-06  26.53\n",
       "3    1986-01-07  25.85\n",
       "4    1986-01-08  25.87\n",
       "...         ...    ...\n",
       "9624 2024-03-19  84.39\n",
       "9625 2024-03-20  82.79\n",
       "9626 2024-03-21  81.99\n",
       "9627 2024-03-22  81.10\n",
       "9628 2024-03-25  82.41\n",
       "\n",
       "[9629 rows x 2 columns]"
      ]
     },
     "execution_count": 3,
     "metadata": {},
     "output_type": "execute_result"
    }
   ],
   "source": [
    "cushing = pd.read_csv(\"Cushing_OK_WTI_Spot_Price_FOB.csv\", header=4)\n",
    "initial_column_names = cushing.columns\n",
    "cushing['Date'] = pd.to_datetime(cushing['Day'], format='%m/%d/%Y')\n",
    "cushing['Price'] = cushing[initial_column_names[-1]].astype(float)\n",
    "cushing.drop(columns=initial_column_names, inplace=True)\n",
    "cushing.sort_values(by='Date', inplace=True)\n",
    "cushing.reset_index(drop=True, inplace=True)\n",
    "cushing"
   ]
  },
  {
   "cell_type": "markdown",
   "metadata": {},
   "source": [
    "#### Kerosene\n"
   ]
  },
  {
   "cell_type": "code",
   "execution_count": 4,
   "metadata": {},
   "outputs": [
    {
     "data": {
      "text/html": [
       "<div>\n",
       "<style scoped>\n",
       "    .dataframe tbody tr th:only-of-type {\n",
       "        vertical-align: middle;\n",
       "    }\n",
       "\n",
       "    .dataframe tbody tr th {\n",
       "        vertical-align: top;\n",
       "    }\n",
       "\n",
       "    .dataframe thead th {\n",
       "        text-align: right;\n",
       "    }\n",
       "</style>\n",
       "<table border=\"1\" class=\"dataframe\">\n",
       "  <thead>\n",
       "    <tr style=\"text-align: right;\">\n",
       "      <th></th>\n",
       "      <th>Date</th>\n",
       "      <th>Price</th>\n",
       "    </tr>\n",
       "  </thead>\n",
       "  <tbody>\n",
       "    <tr>\n",
       "      <th>0</th>\n",
       "      <td>1990-04-02</td>\n",
       "      <td>0.550</td>\n",
       "    </tr>\n",
       "    <tr>\n",
       "      <th>1</th>\n",
       "      <td>1990-04-03</td>\n",
       "      <td>0.555</td>\n",
       "    </tr>\n",
       "    <tr>\n",
       "      <th>2</th>\n",
       "      <td>1990-04-04</td>\n",
       "      <td>0.560</td>\n",
       "    </tr>\n",
       "    <tr>\n",
       "      <th>3</th>\n",
       "      <td>1990-04-05</td>\n",
       "      <td>0.540</td>\n",
       "    </tr>\n",
       "    <tr>\n",
       "      <th>4</th>\n",
       "      <td>1990-04-06</td>\n",
       "      <td>0.536</td>\n",
       "    </tr>\n",
       "    <tr>\n",
       "      <th>...</th>\n",
       "      <td>...</td>\n",
       "      <td>...</td>\n",
       "    </tr>\n",
       "    <tr>\n",
       "      <th>8533</th>\n",
       "      <td>2024-03-19</td>\n",
       "      <td>2.671</td>\n",
       "    </tr>\n",
       "    <tr>\n",
       "      <th>8534</th>\n",
       "      <td>2024-03-20</td>\n",
       "      <td>2.606</td>\n",
       "    </tr>\n",
       "    <tr>\n",
       "      <th>8535</th>\n",
       "      <td>2024-03-21</td>\n",
       "      <td>2.608</td>\n",
       "    </tr>\n",
       "    <tr>\n",
       "      <th>8536</th>\n",
       "      <td>2024-03-22</td>\n",
       "      <td>2.582</td>\n",
       "    </tr>\n",
       "    <tr>\n",
       "      <th>8537</th>\n",
       "      <td>2024-03-25</td>\n",
       "      <td>2.583</td>\n",
       "    </tr>\n",
       "  </tbody>\n",
       "</table>\n",
       "<p>8538 rows × 2 columns</p>\n",
       "</div>"
      ],
      "text/plain": [
       "           Date  Price\n",
       "0    1990-04-02  0.550\n",
       "1    1990-04-03  0.555\n",
       "2    1990-04-04  0.560\n",
       "3    1990-04-05  0.540\n",
       "4    1990-04-06  0.536\n",
       "...         ...    ...\n",
       "8533 2024-03-19  2.671\n",
       "8534 2024-03-20  2.606\n",
       "8535 2024-03-21  2.608\n",
       "8536 2024-03-22  2.582\n",
       "8537 2024-03-25  2.583\n",
       "\n",
       "[8538 rows x 2 columns]"
      ]
     },
     "execution_count": 4,
     "metadata": {},
     "output_type": "execute_result"
    }
   ],
   "source": [
    "kerosene = pd.read_csv(\"U.S._Gulf_Coast_Kerosene-Type_Jet_Fuel_Spot_Price_FOB.csv\", header=4)\n",
    "initial_column_names = kerosene.columns\n",
    "kerosene['Date'] = pd.to_datetime(kerosene['Day'], format='%m/%d/%Y')\n",
    "kerosene['Price'] = kerosene[initial_column_names[-1]].astype(float)\n",
    "kerosene.drop(columns=initial_column_names, inplace=True)\n",
    "kerosene.sort_values(by='Date', inplace=True)\n",
    "kerosene.reset_index(drop=True, inplace=True)\n",
    "kerosene"
   ]
  },
  {
   "cell_type": "markdown",
   "metadata": {},
   "source": [
    "## Assumption\n"
   ]
  },
  {
   "cell_type": "markdown",
   "metadata": {},
   "source": [
    "- For question 1 and 2, only dates that have both spot price and future price will be assessed.\n",
    "- For question 3, at the end of the maturity, all accounts will be taken out and put into the capital account.\n",
    "- For question 3b, all of the profit from the daily settlement are NOT taken out of the margin account.\n"
   ]
  },
  {
   "cell_type": "markdown",
   "metadata": {},
   "source": [
    "## Question 1\n"
   ]
  },
  {
   "cell_type": "markdown",
   "metadata": {},
   "source": [
    "### a.\n"
   ]
  },
  {
   "cell_type": "markdown",
   "metadata": {},
   "source": [
    "So as to calculate the optimal hedge, we use:\n",
    "\n",
    "$$\n",
    "h = \\rho \\frac{\\sigma _S}{\\sigma _F}\n",
    "$$\n",
    "\n",
    "As the company want to hedge their purchase from 1/11/2023 to 19/3/2024 (which is 139 days ahead). The $\\rho$ and $\\sigma$ will be calculated with the change in price of 139 days before 1/11/2023 (which is from 15/06/2023)\n"
   ]
  },
  {
   "cell_type": "markdown",
   "metadata": {},
   "source": [
    "#### Setup\n"
   ]
  },
  {
   "cell_type": "code",
   "execution_count": 5,
   "metadata": {},
   "outputs": [],
   "source": [
    "total_barrel = 100000\n",
    "barrel_per_contract = 1000\n",
    "start_estimate_date = date(2023,6,14)\n",
    "end_estimate_date = date(2023,11,1)"
   ]
  },
  {
   "cell_type": "markdown",
   "metadata": {},
   "source": [
    "#### Calculation\n"
   ]
  },
  {
   "cell_type": "code",
   "execution_count": 6,
   "metadata": {},
   "outputs": [
    {
     "name": "stdout",
     "output_type": "stream",
     "text": [
      "Number on contracts that company needs to enter: 98\n"
     ]
    }
   ],
   "source": [
    "spot_price = cushing[(cushing['Date'].dt.date<=end_estimate_date) & (cushing['Date'].dt.date>=start_estimate_date)].reset_index(drop=True)\n",
    "future_price = future[(future['Date'].dt.date<=end_estimate_date) & (future['Date'].dt.date>=start_estimate_date)][['Date', 'Price']].reset_index(drop=True)\n",
    "future_price = future_price[future_price['Date'].isin(set(spot_price['Date']))]\n",
    "spot_price = np.diff(np.array(spot_price['Price']))\n",
    "future_price = np.diff(np.array(future_price['Price']))\n",
    "rho = np.corrcoef(spot_price, future_price)[0, 1]\n",
    "h = rho * np.std(spot_price, ddof=1)/np.std(future_price, ddof=1)\n",
    "hedged_barrel = h * total_barrel\n",
    "total_contract = math.ceil(hedged_barrel / barrel_per_contract)\n",
    "print('Number on contracts that company needs to enter:',total_contract)"
   ]
  },
  {
   "cell_type": "markdown",
   "metadata": {},
   "source": [
    "#### Conclusion\n"
   ]
  },
  {
   "cell_type": "markdown",
   "metadata": {},
   "source": [
    "The company will need to enter long position of 98 contracts on November 1st, 2023 and close the position on March 19th, 2024\n",
    "Mismatch in the maturity"
   ]
  },
  {
   "cell_type": "markdown",
   "metadata": {},
   "source": [
    "### b.\n"
   ]
  },
  {
   "cell_type": "markdown",
   "metadata": {},
   "source": [
    "#### Setup\n"
   ]
  },
  {
   "cell_type": "code",
   "execution_count": 7,
   "metadata": {},
   "outputs": [],
   "source": [
    "start_hedging_date = date(2023,11,1)\n",
    "end_hedging_date = date(2024,3,19)"
   ]
  },
  {
   "cell_type": "markdown",
   "metadata": {},
   "source": [
    "#### Calculation\n"
   ]
  },
  {
   "cell_type": "code",
   "execution_count": 8,
   "metadata": {},
   "outputs": [
    {
     "name": "stdout",
     "output_type": "stream",
     "text": [
      "Payoff from the hedge: 296940.0000000001\n",
      "Net payment of the company: 8142060.0\n"
     ]
    }
   ],
   "source": [
    "future_price_settle = future[(future['Date'].dt.date==end_hedging_date)]['Price'].reset_index(drop=True).at[0]\n",
    "future_price_in = future[(future['Date'].dt.date==start_hedging_date)]['Price'].reset_index(drop=True).at[0]\n",
    "value = (future_price_settle-future_price_in)*total_contract*barrel_per_contract\n",
    "spot_price_settle = cushing[(cushing['Date'].dt.date==end_hedging_date)]['Price'].reset_index(drop=True).at[0]\n",
    "cost = spot_price_settle*total_barrel - value\n",
    "print('Payoff from the hedge:', value)\n",
    "print('Net payment of the company:', cost)"
   ]
  },
  {
   "cell_type": "markdown",
   "metadata": {},
   "source": [
    "#### Conclusion\n"
   ]
  },
  {
   "cell_type": "markdown",
   "metadata": {},
   "source": [
    "The company will need to pay net payment of: 8142060\n"
   ]
  },
  {
   "cell_type": "markdown",
   "metadata": {},
   "source": [
    "### c.\n"
   ]
  },
  {
   "cell_type": "markdown",
   "metadata": {},
   "source": [
    "#### Calculation\n"
   ]
  },
  {
   "cell_type": "code",
   "execution_count": 9,
   "metadata": {},
   "outputs": [
    {
     "name": "stdout",
     "output_type": "stream",
     "text": [
      "90160.00000000016\n"
     ]
    }
   ],
   "source": [
    "basis_risk = (spot_price_settle-future_price_settle)*total_contract*barrel_per_contract\n",
    "print(basis_risk)"
   ]
  },
  {
   "cell_type": "markdown",
   "metadata": {},
   "source": [
    "#### Conclusion\n"
   ]
  },
  {
   "cell_type": "markdown",
   "metadata": {},
   "source": [
    "There is basis risk on the hedging outcome. The hedge has succesfully partly protect the company from the increase in price of the oil barrel. As being aware of the increase in price of the barrel, the company entered the future contract. By then, if the price of the barrel increase, the price of the future contract increase as well. This would lead to the reduction in cost of buying in the future for the company by using the payoff received from the hedge.\n",
    "Maturity and asset missmatch"
   ]
  },
  {
   "cell_type": "markdown",
   "metadata": {},
   "source": [
    "## Question 2\n"
   ]
  },
  {
   "cell_type": "markdown",
   "metadata": {},
   "source": [
    "### a.\n"
   ]
  },
  {
   "cell_type": "markdown",
   "metadata": {},
   "source": [
    "So as to calculate the optimal hedge, we use:\n",
    "\n",
    "$$\n",
    "h = \\rho \\frac{\\sigma _S}{\\sigma _F}\n",
    "$$\n",
    "\n",
    "As the company want to hedge their purchase from 1/11/2023 to 19/3/2024 (which is 139 days ahead). The $\\rho$ and $\\sigma$ will be calculated with the change in price of 139 days before 1/11/2023 (which is from 15/06/2023)\n"
   ]
  },
  {
   "cell_type": "markdown",
   "metadata": {},
   "source": [
    "#### Setup\n"
   ]
  },
  {
   "cell_type": "code",
   "execution_count": 10,
   "metadata": {},
   "outputs": [],
   "source": [
    "total_gallon = 1000000\n",
    "barrel_per_contract = 1000\n",
    "start_estimate_date = date(2023,6,14)\n",
    "end_estimate_date = date(2023,11,1)"
   ]
  },
  {
   "cell_type": "markdown",
   "metadata": {},
   "source": [
    "#### Calculation\n"
   ]
  },
  {
   "cell_type": "code",
   "execution_count": 11,
   "metadata": {},
   "outputs": [
    {
     "name": "stdout",
     "output_type": "stream",
     "text": [
      "Number on contracts that company needs to enter: 26\n"
     ]
    }
   ],
   "source": [
    "spot_price = kerosene[(kerosene['Date'].dt.date<=end_estimate_date) & (kerosene['Date'].dt.date>=start_estimate_date)].reset_index(drop=True)\n",
    "future_price = future[(future['Date'].dt.date<=end_estimate_date) & (future['Date'].dt.date>=start_estimate_date)][['Date', 'Price']].reset_index(drop=True)\n",
    "future_price = future_price[future_price['Date'].isin(set(spot_price['Date']))]\n",
    "spot_price = np.diff(np.array(spot_price['Price']))\n",
    "future_price = np.diff(np.array(future_price['Price']))\n",
    "rho = np.corrcoef(spot_price, future_price)[0, 1]\n",
    "h = rho * np.std(spot_price, ddof=1)/np.std(future_price, ddof=1)\n",
    "hedged_barrel = h * total_gallon\n",
    "total_contract = math.ceil(hedged_barrel / barrel_per_contract)\n",
    "print('Number on contracts that company needs to enter:', total_contract)"
   ]
  },
  {
   "cell_type": "markdown",
   "metadata": {},
   "source": [
    "#### Conclusion\n"
   ]
  },
  {
   "cell_type": "markdown",
   "metadata": {},
   "source": [
    "The company will need to enter long position of 26 contracts on November 1st, 2023 and close the position on March 19th, 2024\n"
   ]
  },
  {
   "cell_type": "markdown",
   "metadata": {},
   "source": [
    "### b.\n"
   ]
  },
  {
   "cell_type": "markdown",
   "metadata": {},
   "source": [
    "#### Setup\n"
   ]
  },
  {
   "cell_type": "code",
   "execution_count": 12,
   "metadata": {},
   "outputs": [],
   "source": [
    "start_hedging_date = date(2023,11,1)\n",
    "end_hedging_date = date(2024,3,19)"
   ]
  },
  {
   "cell_type": "markdown",
   "metadata": {},
   "source": [
    "#### Calculation\n"
   ]
  },
  {
   "cell_type": "code",
   "execution_count": 13,
   "metadata": {},
   "outputs": [
    {
     "name": "stdout",
     "output_type": "stream",
     "text": [
      "Payoff from the hedge: 78780.00000000003\n",
      "Net payment of the company 188319.99999999997\n"
     ]
    }
   ],
   "source": [
    "future_price_settle = future[(future['Date'].dt.date==date(2024,3,19))]['Price'].reset_index(drop=True).at[0]\n",
    "future_price_in = future[(future['Date'].dt.date==date(2023,11,1))]['Price'].reset_index(drop=True).at[0]\n",
    "value = (future_price_settle-future_price_in)*total_contract*barrel_per_contract\n",
    "spot_price_settle = kerosene[(kerosene['Date'].dt.date==date(2024,3,19))]['Price'].reset_index(drop=True).at[0]\n",
    "cost = spot_price_settle*total_barrel - value\n",
    "print('Payoff from the hedge:', value)\n",
    "print('Net payment of the company', cost)"
   ]
  },
  {
   "cell_type": "markdown",
   "metadata": {},
   "source": [
    "#### Conclusion\n"
   ]
  },
  {
   "cell_type": "markdown",
   "metadata": {},
   "source": [
    "The company will need to pay net payment of: 188320\n"
   ]
  },
  {
   "cell_type": "markdown",
   "metadata": {},
   "source": [
    "### c.\n"
   ]
  },
  {
   "cell_type": "markdown",
   "metadata": {},
   "source": [
    "#### Calculation\n"
   ]
  },
  {
   "cell_type": "code",
   "execution_count": 14,
   "metadata": {},
   "outputs": [
    {
     "name": "stdout",
     "output_type": "stream",
     "text": [
      "Total basis risk: -2100774.0\n"
     ]
    }
   ],
   "source": [
    "basis_risk = (spot_price_settle-future_price_settle)*total_contract*barrel_per_contract\n",
    "print('Total basis risk:',basis_risk)"
   ]
  },
  {
   "cell_type": "markdown",
   "metadata": {},
   "source": [
    "#### Comment\n"
   ]
  },
  {
   "cell_type": "markdown",
   "metadata": {},
   "source": [
    "There is basis risk on the hedging outcome. The hedge has succesfully partly protect the company from the increase in price of the kerosense gallon. As being aware of the increase in price of the kerosense gallon, the company entered the future contract. By then, if the price of the barrel increase, the price of the future contract increase as well. This would lead to the reduction in cost of buying in the future for the company by using the payoff received from the hedge.\n"
   ]
  },
  {
   "cell_type": "markdown",
   "metadata": {},
   "source": [
    "## Question 3\n"
   ]
  },
  {
   "cell_type": "markdown",
   "metadata": {},
   "source": [
    "### a.\n"
   ]
  },
  {
   "cell_type": "markdown",
   "metadata": {},
   "source": [
    "#### Setup\n"
   ]
  },
  {
   "cell_type": "code",
   "execution_count": 15,
   "metadata": {},
   "outputs": [],
   "source": [
    "enter_date = date(2022, 1, 12)\n",
    "settle_price = 78\n",
    "total_barrel = 1000000\n",
    "settle_date = date(2023, 12, 8)\n",
    "total_contract = 1000\n",
    "barrel_per_contract = 1000"
   ]
  },
  {
   "cell_type": "markdown",
   "metadata": {},
   "source": [
    "#### Calculation\n"
   ]
  },
  {
   "cell_type": "code",
   "execution_count": 16,
   "metadata": {},
   "outputs": [
    {
     "name": "stdout",
     "output_type": "stream",
     "text": [
      "Payoff from the future contract: 11409999.999999996\n",
      "Payoff from the forward contract: -7129999.999999995\n",
      "Payoff from the future and the forward contract: 4280000.000000001\n"
     ]
    }
   ],
   "source": [
    "future_price_settle = future[(future['Date'].dt.date==settle_date)]['Price'].reset_index(drop=True).at[0]\n",
    "future_price_in = future[(future['Date'].dt.date==enter_date)]['Price'].reset_index(drop=True).at[0]\n",
    "future_value = (future_price_in-future_price_settle)*total_contract*barrel_per_contract\n",
    "spot_price_settle = cushing[(cushing['Date'].dt.date==settle_date)]['Price'].reset_index(drop=True).at[0]\n",
    "forward_value = (spot_price_settle-settle_price)*total_barrel\n",
    "payoff = forward_value + future_value\n",
    "print('Payoff from the future contract:', future_value)\n",
    "print('Payoff from the forward contract:', forward_value)\n",
    "print('Payoff from the future and the forward contract:',payoff)"
   ]
  },
  {
   "cell_type": "markdown",
   "metadata": {},
   "source": [
    "#### Conclusion\n"
   ]
  },
  {
   "cell_type": "markdown",
   "metadata": {},
   "source": [
    "- The company make a lost in forward contract of: 7130000\n",
    "- The company make a profit in future contract of: 11410000\n",
    "- The company will realise a profit of: 4280000\n"
   ]
  },
  {
   "cell_type": "markdown",
   "metadata": {},
   "source": [
    "### b.\n"
   ]
  },
  {
   "cell_type": "markdown",
   "metadata": {},
   "source": [
    "#### Setup\n"
   ]
  },
  {
   "cell_type": "code",
   "execution_count": 17,
   "metadata": {},
   "outputs": [
    {
     "data": {
      "text/html": [
       "<div>\n",
       "<style scoped>\n",
       "    .dataframe tbody tr th:only-of-type {\n",
       "        vertical-align: middle;\n",
       "    }\n",
       "\n",
       "    .dataframe tbody tr th {\n",
       "        vertical-align: top;\n",
       "    }\n",
       "\n",
       "    .dataframe thead th {\n",
       "        text-align: right;\n",
       "    }\n",
       "</style>\n",
       "<table border=\"1\" class=\"dataframe\">\n",
       "  <thead>\n",
       "    <tr style=\"text-align: right;\">\n",
       "      <th></th>\n",
       "      <th>Date</th>\n",
       "      <th>Change</th>\n",
       "    </tr>\n",
       "  </thead>\n",
       "  <tbody>\n",
       "    <tr>\n",
       "      <th>0</th>\n",
       "      <td>2022-01-13</td>\n",
       "      <td>-0.52</td>\n",
       "    </tr>\n",
       "    <tr>\n",
       "      <th>1</th>\n",
       "      <td>2022-01-14</td>\n",
       "      <td>1.70</td>\n",
       "    </tr>\n",
       "    <tr>\n",
       "      <th>2</th>\n",
       "      <td>2022-01-18</td>\n",
       "      <td>1.61</td>\n",
       "    </tr>\n",
       "    <tr>\n",
       "      <th>3</th>\n",
       "      <td>2022-01-19</td>\n",
       "      <td>1.53</td>\n",
       "    </tr>\n",
       "    <tr>\n",
       "      <th>4</th>\n",
       "      <td>2022-01-20</td>\n",
       "      <td>-0.06</td>\n",
       "    </tr>\n",
       "    <tr>\n",
       "      <th>...</th>\n",
       "      <td>...</td>\n",
       "      <td>...</td>\n",
       "    </tr>\n",
       "    <tr>\n",
       "      <th>475</th>\n",
       "      <td>2023-12-04</td>\n",
       "      <td>-1.03</td>\n",
       "    </tr>\n",
       "    <tr>\n",
       "      <th>476</th>\n",
       "      <td>2023-12-05</td>\n",
       "      <td>-0.72</td>\n",
       "    </tr>\n",
       "    <tr>\n",
       "      <th>477</th>\n",
       "      <td>2023-12-06</td>\n",
       "      <td>-2.94</td>\n",
       "    </tr>\n",
       "    <tr>\n",
       "      <th>478</th>\n",
       "      <td>2023-12-07</td>\n",
       "      <td>-0.04</td>\n",
       "    </tr>\n",
       "    <tr>\n",
       "      <th>479</th>\n",
       "      <td>2023-12-08</td>\n",
       "      <td>1.89</td>\n",
       "    </tr>\n",
       "  </tbody>\n",
       "</table>\n",
       "<p>480 rows × 2 columns</p>\n",
       "</div>"
      ],
      "text/plain": [
       "          Date  Change\n",
       "0   2022-01-13   -0.52\n",
       "1   2022-01-14    1.70\n",
       "2   2022-01-18    1.61\n",
       "3   2022-01-19    1.53\n",
       "4   2022-01-20   -0.06\n",
       "..         ...     ...\n",
       "475 2023-12-04   -1.03\n",
       "476 2023-12-05   -0.72\n",
       "477 2023-12-06   -2.94\n",
       "478 2023-12-07   -0.04\n",
       "479 2023-12-08    1.89\n",
       "\n",
       "[480 rows x 2 columns]"
      ]
     },
     "execution_count": 17,
     "metadata": {},
     "output_type": "execute_result"
    }
   ],
   "source": [
    "enter_date = date(2022, 1, 12)\n",
    "settle_price = 78\n",
    "total_barrel = 1000000\n",
    "barrel_per_contract = 1000\n",
    "settle_date = date(2023, 12, 8)\n",
    "total_contract = 1000\n",
    "capital_account = 12000000\n",
    "capital_interest = 0.03\n",
    "maintenance = 6000*total_contract\n",
    "margin_account = 6000*total_contract\n",
    "margin_interest = 0.02\n",
    "days_per_year = 365\n",
    "records = pd.DataFrame(columns=['Date',  'Payoff', 'Margin Account', 'Margin Interest', 'Margin Call', 'Capital Account', 'Capital Interest'])\n",
    "future_price = future[(future['Date'].dt.date<=settle_date) & (future['Date'].dt.date>=enter_date)][['Date', 'Price']].reset_index(drop=True)\n",
    "future_price['Change'] = future_price['Price'].diff()\n",
    "future_price.dropna(inplace=True)\n",
    "future_price.reset_index(drop=True, inplace=True)\n",
    "future_price.drop(columns=['Price'], inplace=True)\n",
    "future_price"
   ]
  },
  {
   "cell_type": "markdown",
   "metadata": {},
   "source": [
    "#### Calculation\n"
   ]
  },
  {
   "cell_type": "code",
   "execution_count": 18,
   "metadata": {},
   "outputs": [],
   "source": [
    "checkdate = enter_date + timedelta(days=1)\n",
    "while checkdate<=settle_date:\n",
    "    margin_accrued_interest = margin_account*margin_interest/days_per_year\n",
    "    capital_accrued_interest = capital_account*(math.exp(capital_interest/days_per_year)-1)\n",
    "    change = future_price[(future_price['Date'].dt.date==checkdate)]['Change'].reset_index(drop=True)\n",
    "    payoff = 0\n",
    "    margin_call = 0\n",
    "    if len(change)!=0:\n",
    "        change = change.at[0]\n",
    "        payoff = -change*total_contract*barrel_per_contract\n",
    "        if payoff + margin_account + margin_accrued_interest < maintenance:\n",
    "            margin_account = maintenance\n",
    "            margin_call = maintenance - (payoff + margin_account + margin_accrued_interest)\n",
    "            capital_account += capital_accrued_interest - margin_call\n",
    "        else:\n",
    "            margin_account += payoff + margin_accrued_interest\n",
    "            capital_account += capital_accrued_interest\n",
    "    else:\n",
    "        margin_account += margin_accrued_interest\n",
    "        capital_account += capital_accrued_interest\n",
    "    if capital_account<0:\n",
    "        margin_account = 0\n",
    "        capital_account = 0\n",
    "        records.loc[len(records)] = [pd.to_datetime(checkdate), payoff, margin_account, margin_accrued_interest, margin_call, capital_account, capital_accrued_interest]\n",
    "        break\n",
    "    records.loc[len(records)] = [pd.to_datetime(checkdate), payoff, margin_account, margin_accrued_interest, margin_call, capital_account, capital_accrued_interest]\n",
    "    checkdate += timedelta(days=1)"
   ]
  },
  {
   "cell_type": "code",
   "execution_count": 19,
   "metadata": {},
   "outputs": [
    {
     "name": "stdout",
     "output_type": "stream",
     "text": [
      "Hedge fund bankrupt\n",
      "Final capital account: 0\n",
      "Margin call days:\n",
      "0   2022-01-14\n",
      "1   2022-01-18\n",
      "2   2022-01-19\n",
      "3   2022-01-26\n",
      "4   2022-01-31\n",
      "5   2022-02-01\n",
      "6   2022-02-02\n",
      "7   2022-02-03\n",
      "8   2022-02-04\n",
      "Name: Date, dtype: datetime64[ns]\n"
     ]
    }
   ],
   "source": [
    "if (records.iloc[len(records)-1]['Date']==pd.to_datetime(settle_date)):\n",
    "    capital = records.iloc[len(records)-1]['Capital Account']\n",
    "    margin = records.iloc[len(records)-1]['Margin Account']\n",
    "    spot_price = cushing[(cushing['Date'].dt.date==settle_date)]['Price'].reset_index(drop=True).at[0]\n",
    "    payoff_from_forward = (spot_price - settle_price)*total_barrel\n",
    "    capital += payoff_from_forward + margin\n",
    "    print('Net final capital account:', payoff_from_forward)\n",
    "else:\n",
    "    print('Hedge fund bankrupt')\n",
    "    print('Final capital account:', 0)\n",
    "print('Margin call days:')\n",
    "print(records[records['Margin Call']!=0]['Date'].reset_index(drop=True))"
   ]
  },
  {
   "cell_type": "code",
   "execution_count": 20,
   "metadata": {},
   "outputs": [
    {
     "data": {
      "image/png": "[encoded data removed]",
      "text/plain": [
       "<Figure size 1000x600 with 1 Axes>"
      ]
     },
     "metadata": {},
     "output_type": "display_data"
    }
   ],
   "source": [
    "plt.figure(figsize=(10, 6))\n",
    "plt.plot(records['Date'], records['Margin Account'], label='Margin Account')\n",
    "plt.plot(records['Date'], records['Capital Account'], label='Capital Account')\n",
    "plt.xlabel('Date')\n",
    "plt.ylabel('Values')\n",
    "plt.title('Plot of Margin and Capital Account over Time')\n",
    "plt.legend()\n",
    "plt.xticks(rotation=45)\n",
    "plt.grid(True)\n",
    "plt.tight_layout()\n",
    "plt.show()"
   ]
  },
  {
   "cell_type": "markdown",
   "metadata": {},
   "source": [
    "#### Conclusion\n"
   ]
  },
  {
   "cell_type": "markdown",
   "metadata": {},
   "source": [
    "As the capital account of the company is not enough to perform the margin call on the Feb 4th, 2022, the company has to take all of the capital account left to pay for the margin call and announce bankrupt. Since then, the company will not be able to live until the forward contract maturity. Hence, the final capital account is 0.\n"
   ]
  },
  {
   "cell_type": "markdown",
   "metadata": {},
   "source": [
    "### c.\n"
   ]
  },
  {
   "cell_type": "markdown",
   "metadata": {},
   "source": [
    "#### Setup\n"
   ]
  },
  {
   "cell_type": "code",
   "execution_count": 21,
   "metadata": {},
   "outputs": [],
   "source": [
    "enter_date = date(2022, 1, 12)\n",
    "settle_price = 78\n",
    "total_barrel = 1000000\n",
    "barrel_per_contract = 1000\n",
    "settle_date = date(2023, 12, 8)\n",
    "total_contract = 1000\n",
    "capital_account = 18000000\n",
    "capital_interest = 0.03\n",
    "days_per_year = 365"
   ]
  },
  {
   "cell_type": "markdown",
   "metadata": {},
   "source": [
    "#### Calculation\n"
   ]
  },
  {
   "cell_type": "code",
   "execution_count": 22,
   "metadata": {},
   "outputs": [
    {
     "name": "stdout",
     "output_type": "stream",
     "text": [
      "Payoff from forward contract: -7129999.999999995\n",
      "Net final capital account: 11928154.077718657\n"
     ]
    }
   ],
   "source": [
    "capital = capital_account\n",
    "spot_price = cushing[(cushing['Date'].dt.date==settle_date)]['Price'].reset_index(drop=True).at[0]\n",
    "payoff_from_forward = (spot_price - settle_price)*total_barrel\n",
    "capital *= math.exp(capital_interest*(settle_date-enter_date).days/365)\n",
    "capital += payoff_from_forward\n",
    "print('Payoff from forward contract:', payoff_from_forward)\n",
    "print('Net final capital account:', capital)"
   ]
  },
  {
   "cell_type": "markdown",
   "metadata": {},
   "source": [
    "#### Conclusion\n"
   ]
  },
  {
   "cell_type": "markdown",
   "metadata": {},
   "source": [
    "- The company make a lost in forward contract of: 7130000\n",
    "- The company final capital account: 11928154.077718657\n"
   ]
  },
  {
   "cell_type": "markdown",
   "metadata": {},
   "source": [
    "### d.\n"
   ]
  },
  {
   "cell_type": "markdown",
   "metadata": {},
   "source": [
    "From the above questions, we can see that:\n",
    "\n",
    "- In question a, the hedging decision of the company is correct as it backup the lost from the forward contract\n",
    "- In question b, however, the company does not take the liquidity of the future contract into account. As the result, we can see that the company is out of fund and can not survive to realise the profit from the hedge. It has to annouce bankrupt due to the requirement of the daily settlement of the future contract\n",
    "- In question c, we can see that if there is no future contract, the company will directly face the lost from the forward contract as it is not hedged like question a.\n",
    "- In summary, we can see that hedging is a good practice for company but it not totally correct if we does not take the liquidity into account. We must take on consideration for the requirement to survive of the hedge as well, not only focusing on the optimal hedge only\n"
   ]
  }
 ],
 "metadata": {
  "kernelspec": {
   "display_name": "venv",
   "language": "python",
   "name": "python3"
  },
  "language_info": {
   "codemirror_mode": {
    "name": "ipython",
    "version": 3
   },
   "file_extension": ".py",
   "mimetype": "text/x-python",
   "name": "python",
   "nbconvert_exporter": "python",
   "pygments_lexer": "ipython3",
   "version": "3.12.3"
  }
 },
 "nbformat": 4,
 "nbformat_minor": 2
}
